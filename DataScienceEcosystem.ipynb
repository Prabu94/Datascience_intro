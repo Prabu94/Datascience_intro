{
 "cells": [
  {
   "cell_type": "markdown",
   "id": "02a602a4-3556-4018-bca6-fa08efdc2015",
   "metadata": {
    "tags": []
   },
   "source": [
    "# Data Science Tools and Ecosystem"
   ]
  },
  {
   "cell_type": "markdown",
   "id": "ce48932a-6322-4a78-a1a5-1561d8d09cd9",
   "metadata": {},
   "source": [
    "## In this notebook, Data Science Tools and Ecosystem are summarized."
   ]
  },
  {
   "cell_type": "markdown",
   "id": "6e08b4ba-e4c6-4c4f-9d30-8f867de2f9e7",
   "metadata": {},
   "source": [
    "### Objectives:"
   ]
  },
  {
   "cell_type": "markdown",
   "id": "d98b67d4-d34d-4897-ad74-8e38045e625d",
   "metadata": {},
   "source": [
    "<ol>\n",
    "<li>Some of the popular languages that Data Scientists use are:</li>\n",
    "<li>Some of the commonly used libraries used by Data Scientists include:</li>\n",
    "<li>Below are a few examples of evaluating arithmetic expressions in Python</li>\n",
    "</ol>"
   ]
  },
  {
   "cell_type": "markdown",
   "id": "2b0bf0ab-9a2c-4b7d-8ecb-a22ec035fb72",
   "metadata": {},
   "source": [
    "## Some of the popular languages that Data Scientists use are:"
   ]
  },
  {
   "cell_type": "markdown",
   "id": "1d0d3e34-345a-40ad-8be2-59cb21dae5fd",
   "metadata": {},
   "source": [
    "<ol>\n",
    "<li>R</li>\n",
    "<li>Python</li>\n",
    "<li>SQL</li>\n",
    "</ol>"
   ]
  },
  {
   "cell_type": "markdown",
   "id": "99984067-0365-4552-a88b-995434567b27",
   "metadata": {},
   "source": [
    "## Some of the commonly used libraries used by Data Scientists include:"
   ]
  },
  {
   "cell_type": "markdown",
   "id": "13b572b7-bbc3-4385-b706-0b34f6e1f546",
   "metadata": {},
   "source": [
    "<ol>\n",
    "<li>pandas</li>\n",
    "<li>numpy</li>\n",
    "<li>matplotlib</li>\n",
    "</ol>"
   ]
  },
  {
   "cell_type": "markdown",
   "id": "eae82778-bc5f-46ad-8f70-51892947d8eb",
   "metadata": {
    "tags": []
   },
   "source": [
    "| Data Science |\n",
    "|:--------:|\n",
    "|  Jupyter Notebook   |\n",
    "|  Jupyter Lite   |\n",
    "|  Kaggle   |"
   ]
  },
  {
   "cell_type": "markdown",
   "id": "460e92ac-1bd7-48f0-9c02-42b8f83f0301",
   "metadata": {},
   "source": [
    "### Below are a few examples of evaluating arithmetic expressions in Python"
   ]
  },
  {
   "cell_type": "markdown",
   "id": "72c77409-9018-415b-b3d0-644c8d444016",
   "metadata": {},
   "source": [
    "<!-- This a simple arithmetic expression to mutiply then add integers -->"
   ]
  },
  {
   "cell_type": "code",
   "execution_count": 4,
   "id": "08502417-5a7a-45f6-88e5-150b8a1e5aef",
   "metadata": {
    "tags": []
   },
   "outputs": [
    {
     "data": {
      "text/plain": [
       "17"
      ]
     },
     "execution_count": 4,
     "metadata": {},
     "output_type": "execute_result"
    }
   ],
   "source": [
    "(3*4)+5"
   ]
  },
  {
   "cell_type": "code",
   "execution_count": 5,
   "id": "89452283-553c-456d-b40a-413c64241cb9",
   "metadata": {
    "tags": []
   },
   "outputs": [],
   "source": [
    "# This will convert 200 minutes to hours by diving by 60"
   ]
  },
  {
   "cell_type": "code",
   "execution_count": 6,
   "id": "0f61e53f-2446-4f78-9bc6-dd9e9c2cbff5",
   "metadata": {
    "tags": []
   },
   "outputs": [
    {
     "data": {
      "text/plain": [
       "3.3333333333333335"
      ]
     },
     "execution_count": 6,
     "metadata": {},
     "output_type": "execute_result"
    }
   ],
   "source": [
    "200/60"
   ]
  },
  {
   "cell_type": "markdown",
   "id": "5afa93ec-1c41-48ad-9bb7-9328f3e4b4fc",
   "metadata": {},
   "source": [
    "## Author"
   ]
  },
  {
   "cell_type": "markdown",
   "id": "e7061c88-99f9-4223-9e95-69d03691bf1d",
   "metadata": {},
   "source": [
    "Prabu Vignesh S"
   ]
  }
 ],
 "metadata": {
  "kernelspec": {
   "display_name": "Python",
   "language": "python",
   "name": "conda-env-python-py"
  },
  "language_info": {
   "codemirror_mode": {
    "name": "ipython",
    "version": 3
   },
   "file_extension": ".py",
   "mimetype": "text/x-python",
   "name": "python",
   "nbconvert_exporter": "python",
   "pygments_lexer": "ipython3",
   "version": "3.7.12"
  }
 },
 "nbformat": 4,
 "nbformat_minor": 5
}
